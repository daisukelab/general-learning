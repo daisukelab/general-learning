{
 "cells": [
  {
   "cell_type": "code",
   "execution_count": 12,
   "metadata": {},
   "outputs": [
    {
     "name": "stdout",
     "output_type": "stream",
     "text": [
      "{'AAあ良い日H': 0, 'BAあB良い日': 1, 'あ良Cいえ': 2}\n",
      "[2, 0, 1]\n",
      "[['__label__2', '1aaあ', '良い', '日h', 'AAあ', '良い', '日H'], ['__label__0', '2baあ', 'b良い', '日', 'BAあ', 'B良い', '日'], ['__label__1', '3あ', '良cい', 'え', 'あ', '良Cい', 'え']]\n"
     ]
    }
   ],
   "source": [
    "after_uniqs = [\n",
    "    ['aaあ', '良い', '日h', 'AAあ', '良い', '日H'], \n",
    "    ['baあ', 'b良い', '日', 'BAあ', 'B良い', '日'], \n",
    "    ['あ', '良cい', 'え', 'あ', '良Cい', 'え'], \n",
    "]\n",
    "after_texts = [\n",
    "    'あ良Cいえ', \n",
    "    'AAあ良い日H',\n",
    "    'BAあB良い日',\n",
    "]\n",
    "befores = [\n",
    "    ['1aaあ', '良い', '日h', 'AAあ', '良い', '日H'], \n",
    "    ['2baあ', 'b良い', '日', 'BAあ', 'B良い', '日'], \n",
    "    ['3あ', '良cい', 'え', 'あ', '良Cい', 'え'], \n",
    "]\n",
    "\n",
    "\n",
    "def build_dic_by_after_uniq(uniqs):\n",
    "    dic = {}\n",
    "    for i, u in enumerate(uniqs):\n",
    "        word = ''.join(u[len(u)//2:])\n",
    "        dic[word] = i\n",
    "    return dic\n",
    "\n",
    "def replace_after_by_class(dic, afters):\n",
    "    clss = []\n",
    "    for a in afters:\n",
    "        clss.append(dic[a])\n",
    "    return clss\n",
    "\n",
    "def append_class(after_cls, befores):\n",
    "    be = []\n",
    "    for i, b in enumerate(befores):\n",
    "        be.append(['__label__%d' % after_cls[i]] + befores[i])\n",
    "    return be\n",
    "\n",
    "dic = build_dic_by_after_uniq(after_uniqs)\n",
    "clss = replace_after_by_class(dic, after_texts)\n",
    "be_cls = append_class(clss, befores)\n",
    "print(dic)\n",
    "print(clss)\n",
    "print(be_cls)"
   ]
  },
  {
   "cell_type": "markdown",
   "metadata": {},
   "source": [
    "1. dic = build_dic_by_after_uniq(after_uniq.tsv)\n",
    "2. after_cls = replace_after_by_class(train_after_norm.tsv)\n",
    "3. before_cls = append_class(after_cls, train_before_norm.tsv)\n",
    "4. test test_norm.tsv\n",
    "\n"
   ]
  },
  {
   "cell_type": "code",
   "execution_count": null,
   "metadata": {
    "collapsed": true
   },
   "outputs": [],
   "source": [
    "_"
   ]
  }
 ],
 "metadata": {
  "kernelspec": {
   "display_name": "Python 3",
   "language": "python",
   "name": "python3"
  },
  "language_info": {
   "codemirror_mode": {
    "name": "ipython",
    "version": 3
   },
   "file_extension": ".py",
   "mimetype": "text/x-python",
   "name": "python",
   "nbconvert_exporter": "python",
   "pygments_lexer": "ipython3",
   "version": "3.6.1"
  }
 },
 "nbformat": 4,
 "nbformat_minor": 2
}
