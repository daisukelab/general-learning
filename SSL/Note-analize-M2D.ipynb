{
 "cells": [
  {
   "cell_type": "markdown",
   "metadata": {},
   "source": [
    "# Analyzing M2D features: How is the partial dimensional collapse in the pre-trained M2D representation?\n",
    "\n",
    "Are some dimensions of M2D [4] feature vectors collapsed?\n",
    "\n",
    "Here, we check it with the FSD50K [3] samples following the method in [1].\n",
    "\n",
    "We also estimate the effective rank of the features using the method RankMe [2].\n",
    "\n",
    "- [1] Li et al., \"Understanding Collapse in Non-Contrastive Siamese Representation Learning,\" in ECCV, 2022, https://arxiv.org/abs/2209.15007, https://link.springer.com/chapter/10.1007/978-3-031-19821-2_28\n",
    "- [2] Garrido, et al, \"RankMe: Assessing the Downstream Performance of Pretrained Self-Supervised Representations by Their Rank,\" in ICML, 2023, https://proceedings.mlr.press/v202/garrido23a.html\n",
    "- [3] Fonseca et al., “FSD50K: an Open Dataset of Human-Labeled Sound Events,” IEEE TASLP 2021, https://arxiv.org/abs/2010.00475, https://ieeexplore.ieee.org/document/9645159\n",
    "- [4] Niizumi et al., \"Masked Modeling Duo: Learning Representations by Encouraging Both Networks to Model the Input,\" in ICASSP, 2023, https://arxiv.org/abs/2210.14648, https://ieeexplore.ieee.org/document/10097236"
   ]
  },
  {
   "cell_type": "code",
   "execution_count": 1,
   "metadata": {},
   "outputs": [],
   "source": [
    "from dlcliche.notebook import *\n",
    "from dlcliche.torch_utils import *"
   ]
  },
  {
   "cell_type": "markdown",
   "metadata": {},
   "source": [
    "Prepare a BYOL-A instance."
   ]
  },
  {
   "cell_type": "code",
   "execution_count": 2,
   "metadata": {},
   "outputs": [
    {
     "name": "stdout",
     "output_type": "stream",
     "text": [
      "M2DViT(in_chans=1, patch size=(16, 16), grid_size=[ 5 38],\n",
      "  embed_dim=768, depth=12, num_heads=12, decoder_embed_dim=512,\n",
      "  decoder_depth=8, decoder_num_heads=16, mlp_ratio=4,\n",
      "  norm_pix_loss=False)\n",
      "+ loss_type=norm_mse, target_layers=None\n",
      " using 400 parameters, while dropped 0 from 400 parameters in /lab/m2d/m2d_vit_base-80x608p16x16-220930-mr7/checkpoint-300.pth\n",
      "torch.Size([3, 380, 768])\n"
     ]
    }
   ],
   "source": [
    "BASE = '/lab/m2d'\n",
    "sys.path.append(BASE)\n",
    "\n",
    "from m2d.runtime_audio import RuntimeM2D\n",
    "\n",
    "device = torch.device('cuda')\n",
    "\n",
    "# Prepare your batch of audios. This is a dummy  example of three 10s  waves.\n",
    "batch_audio = 2 * torch.rand((3, 10 * 16000)) - 1.0 # input range = [-1., 1]\n",
    "batch_audio = batch_audio.to(device)\n",
    "\n",
    "# Create a model with pretrained weights.\n",
    "runtime = RuntimeM2D(weight_file=BASE+'/m2d_vit_base-80x608p16x16-220930-mr7/checkpoint-300.pth')\n",
    "runtime = runtime.to(device)\n",
    "runtime.eval()\n",
    "\n",
    "# We check raw features (768d) instead of the default M2D feature (3,840d) summarized in time frames.\n",
    "runtime.cfg.flat_features = True\n",
    "\n",
    "# Encode raw audio into features. `encode()` will do the followings automatically:\n",
    "# 1. Convert the input `batch_audio` to log-mel spectrograms (LMS).\n",
    "# 2. Normalize the batch LMS with mean and std calculated from the batch.\n",
    "# 3. Encode the bach LMS to features.\n",
    "frame_level = runtime.encode(batch_audio)\n",
    "\n",
    "# This example ends up with frame-level 3840-d feature vectors for 63 time frames.\n",
    "# The `frame_level` will have a size of torch.Size([3, 63, 3840]).\n",
    "print(frame_level.shape)"
   ]
  },
  {
   "cell_type": "code",
   "execution_count": 3,
   "metadata": {},
   "outputs": [
    {
     "data": {
      "text/plain": [
       "(torch.Size([1, 1, 80, 700644]),\n",
       " tensor(-10.1741, device='cuda:0'),\n",
       " tensor(4.4270, device='cuda:0'))"
      ]
     },
     "execution_count": 3,
     "metadata": {},
     "output_type": "execute_result"
    }
   ],
   "source": [
    "import librosa\n",
    "\n",
    "fsd50k_files = sorted(Path('/lab/work/16k/fsd50k/FSD50K.dev_audio').glob('*.wav'))\n",
    "random.shuffle(fsd50k_files)\n",
    "\n",
    "# Calculate log-mel spectrogram statistics\n",
    "N = 1000\n",
    "lmss = None\n",
    "for fpath in fsd50k_files[:N]:\n",
    "    wav, sr = librosa.load(fpath, sr=None)\n",
    "    assert sr == runtime.cfg.sample_rate, \"Let's convert the audio sampling rate in advance, or do it here online.\"\n",
    "    with torch.no_grad():\n",
    "        lms = runtime.to_feature(torch.tensor(wav).to(device).unsqueeze(0))\n",
    "        lmss = lms if lmss is None else torch.concat([lmss, lms], dim=-1)\n",
    "lms_mean, lms_std = lmss.mean(), lmss.std()\n",
    "lmss.shape, lms_mean, lms_std"
   ]
  },
  {
   "cell_type": "code",
   "execution_count": 4,
   "metadata": {},
   "outputs": [
    {
     "data": {
      "text/plain": [
       "torch.Size([665950, 768])"
      ]
     },
     "execution_count": 4,
     "metadata": {},
     "output_type": "execute_result"
    }
   ],
   "source": [
    "N = 2000\n",
    "features = []\n",
    "for fpath in fsd50k_files[:N]:\n",
    "    wav, sr = librosa.load(fpath, sr=None)\n",
    "    assert sr == runtime.cfg.sample_rate, \"Let's convert the audio sampling rate in advance, or do it here online.\"\n",
    "    with torch.no_grad():\n",
    "        lms = runtime.to_feature(torch.tensor(wav).to(device).unsqueeze(0))\n",
    "        lms = (lms - lms_mean) / lms_std\n",
    "        x = runtime.encode_lms(lms)\n",
    "        features.append(x[0])\n",
    "features = torch.vstack(features)\n",
    "features.shape"
   ]
  },
  {
   "cell_type": "code",
   "execution_count": 5,
   "metadata": {},
   "outputs": [
    {
     "name": "stdout",
     "output_type": "stream",
     "text": [
      "tensor(0.7641)\n"
     ]
    }
   ],
   "source": [
    "import analyze_repr\n",
    "\n",
    "print(analyze_repr.get_cumulative_explained_variance_auc(features))"
   ]
  },
  {
   "cell_type": "code",
   "execution_count": 6,
   "metadata": {},
   "outputs": [
    {
     "name": "stdout",
     "output_type": "stream",
     "text": [
      "torch.Size([768]) torch.Size([]) torch.Size([768])\n"
     ]
    },
    {
     "data": {
      "image/png": "[encoded data removed]",
      "text/plain": [
       "<Figure size 432x288 with 1 Axes>"
      ]
     },
     "metadata": {
      "needs_background": "light"
     },
     "output_type": "display_data"
    },
    {
     "name": "stdout",
     "output_type": "stream",
     "text": [
      "tensor(0.7641)\n"
     ]
    },
    {
     "data": {
      "image/png": "[encoded data removed]",
      "text/plain": [
       "<Figure size 432x288 with 1 Axes>"
      ]
     },
     "metadata": {
      "needs_background": "light"
     },
     "output_type": "display_data"
    }
   ],
   "source": [
    "nsv = analyze_repr.normalized_singular_value(features)\n",
    "auc, cev = analyze_repr.cumulative_explained_variance(nsv)\n",
    "print(nsv.shape, auc.shape, cev.shape)\n",
    "\n",
    "plt.plot(nsv.cpu().numpy())\n",
    "plt.title('normalized_singular_value')\n",
    "plt.yscale('log')\n",
    "plt.show()\n",
    "\n",
    "print(auc)\n",
    "plt.plot(cev.numpy())\n",
    "plt.title('cumulative_explained_variance')\n",
    "plt.show()"
   ]
  },
  {
   "cell_type": "markdown",
   "metadata": {},
   "source": [
    "### How many are the feature dimensions collapsed?"
   ]
  },
  {
   "cell_type": "code",
   "execution_count": 7,
   "metadata": {},
   "outputs": [
    {
     "name": "stdout",
     "output_type": "stream",
     "text": [
      "0.0 % of the feature dimensions are just zero.\n"
     ]
    }
   ],
   "source": [
    "collapse_ratio = sum(nsv < 1e-4) / nsv.shape[0]\n",
    "print(f'{collapse_ratio * 100:.4} % of the feature dimensions are just zero.')"
   ]
  },
  {
   "cell_type": "markdown",
   "metadata": {},
   "source": [
    "### Check the feature dimension collapse with the effective rank using RankMe"
   ]
  },
  {
   "cell_type": "code",
   "execution_count": 8,
   "metadata": {},
   "outputs": [
    {
     "name": "stdout",
     "output_type": "stream",
     "text": [
      "The effective rank is 359.0, i.e., 46.75 % of the feature dimensions are effective.\n"
     ]
    }
   ],
   "source": [
    "rank = analyze_repr.rank_me(features)\n",
    "print(f'The effective rank is {rank:.4}, i.e., {rank / features.shape[-1] * 100:.4} % of the feature dimensions are effective.')"
   ]
  },
  {
   "cell_type": "markdown",
   "metadata": {},
   "source": [
    "## Testing with more samples\n",
    "\n",
    "Confirmed to be almost the same as the results above."
   ]
  },
  {
   "cell_type": "code",
   "execution_count": 9,
   "metadata": {},
   "outputs": [
    {
     "data": {
      "text/plain": [
       "torch.Size([3332980, 768])"
      ]
     },
     "execution_count": 9,
     "metadata": {},
     "output_type": "execute_result"
    }
   ],
   "source": [
    "N = 10000\n",
    "features = []\n",
    "for fpath in fsd50k_files[:N]:\n",
    "    wav, sr = librosa.load(fpath, sr=None)\n",
    "    assert sr == runtime.cfg.sample_rate, \"Let's convert the audio sampling rate in advance, or do it here online.\"\n",
    "    with torch.no_grad():\n",
    "        lms = runtime.to_feature(torch.tensor(wav).to(device).unsqueeze(0))\n",
    "        lms = (lms - lms_mean) / lms_std\n",
    "        x = runtime.encode_lms(lms)\n",
    "        features.append(x[0])\n",
    "features = torch.vstack(features)\n",
    "features.shape"
   ]
  },
  {
   "cell_type": "code",
   "execution_count": 10,
   "metadata": {},
   "outputs": [
    {
     "name": "stdout",
     "output_type": "stream",
     "text": [
      "tensor(0.7631)\n",
      "torch.Size([768]) torch.Size([]) torch.Size([768])\n"
     ]
    },
    {
     "data": {
      "image/png": "[encoded data removed]",
      "text/plain": [
       "<Figure size 432x288 with 1 Axes>"
      ]
     },
     "metadata": {
      "needs_background": "light"
     },
     "output_type": "display_data"
    },
    {
     "name": "stdout",
     "output_type": "stream",
     "text": [
      "tensor(0.7631)\n"
     ]
    },
    {
     "data": {
      "image/png": "[encoded data removed]",
      "text/plain": [
       "<Figure size 432x288 with 1 Axes>"
      ]
     },
     "metadata": {
      "needs_background": "light"
     },
     "output_type": "display_data"
    },
    {
     "name": "stdout",
     "output_type": "stream",
     "text": [
      "0.0 % of the feature dimensions are just zero.\n",
      "The effective rank is 360.4, i.e., 46.93 % of the feature dimensions are effective.\n"
     ]
    }
   ],
   "source": [
    "features = features.cpu()\n",
    "\n",
    "print(analyze_repr.get_cumulative_explained_variance_auc(features))\n",
    "\n",
    "nsv = analyze_repr.normalized_singular_value(features)\n",
    "auc, cev = analyze_repr.cumulative_explained_variance(nsv)\n",
    "print(nsv.shape, auc.shape, cev.shape)\n",
    "\n",
    "plt.plot(nsv.cpu().numpy())\n",
    "plt.title('normalized_singular_value')\n",
    "plt.yscale('log')\n",
    "plt.show()\n",
    "\n",
    "print(auc)\n",
    "plt.plot(cev.cpu().numpy())\n",
    "plt.title('cumulative_explained_variance')\n",
    "plt.show()\n",
    "\n",
    "collapse_ratio = sum(nsv < 1e-4) / nsv.shape[0]\n",
    "print(f'{collapse_ratio * 100:.4} % of the feature dimensions are just zero.')\n",
    "\n",
    "rank = analyze_repr.rank_me(features)\n",
    "print(f'The effective rank is {rank:.4}, i.e., {rank / features.shape[-1] * 100:.4} % of the feature dimensions are effective.')"
   ]
  },
  {
   "cell_type": "code",
   "execution_count": null,
   "metadata": {},
   "outputs": [],
   "source": []
  }
 ],
 "metadata": {
  "kernelspec": {
   "display_name": "ar",
   "language": "python",
   "name": "python3"
  },
  "language_info": {
   "codemirror_mode": {
    "name": "ipython",
    "version": 3
   },
   "file_extension": ".py",
   "mimetype": "text/x-python",
   "name": "python",
   "nbconvert_exporter": "python",
   "pygments_lexer": "ipython3",
   "version": "3.8.0"
  },
  "orig_nbformat": 4
 },
 "nbformat": 4,
 "nbformat_minor": 2
}
