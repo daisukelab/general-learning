{
 "cells": [
  {
   "cell_type": "markdown",
   "metadata": {},
   "source": [
    "https://github.com/walsvid/CoordConv/blob/master/CoordConv.ipynb\n",
    "\n",
    "This notebook does something opposite from the original notebook."
   ]
  },
  {
   "cell_type": "code",
   "execution_count": 1,
   "metadata": {},
   "outputs": [],
   "source": [
    "from dlcliche.notebook import *\n",
    "from dlcliche.utils import *\n",
    "\n",
    "import torch\n",
    "import torch.nn as nn\n",
    "import torch.nn.modules.conv as conv\n",
    "import torch.utils.data as utils\n",
    "import torch.nn.functional as F\n",
    "\n",
    "from torch.autograd import Variable\n",
    "from sklearn.model_selection import train_test_split\n",
    "from torchsummary import summary"
   ]
  },
  {
   "cell_type": "code",
   "execution_count": 2,
   "metadata": {},
   "outputs": [
    {
     "data": {
      "text/plain": [
       "<torch._C.Generator at 0x7f440d06d570>"
      ]
     },
     "execution_count": 2,
     "metadata": {},
     "output_type": "execute_result"
    }
   ],
   "source": [
    "#!wget https://raw.githubusercontent.com/walsvid/CoordConv/master/coordconv.py\n",
    "\n",
    "from coord_conv import CoordConv\n",
    "\n",
    "datatype = 'uniform'\n",
    "assert datatype in ['uniform', 'quadrant']\n",
    "\n",
    "if not os.path.exists('data-uniform/'):\n",
    "    os.makedirs('data-uniform/')\n",
    "\n",
    "if not os.path.exists('data-quadrant/'):\n",
    "    os.makedirs('data-quadrant/')\n",
    "\n",
    "np.random.seed(0)\n",
    "torch.manual_seed(0)"
   ]
  },
  {
   "cell_type": "code",
   "execution_count": 3,
   "metadata": {},
   "outputs": [
    {
     "name": "stdout",
     "output_type": "stream",
     "text": [
      "(3136, 1, 64, 64)\n"
     ]
    },
    {
     "data": {
      "image/png": "[encoded data removed]",
      "text/plain": [
       "<Figure size 432x288 with 1 Axes>"
      ]
     },
     "metadata": {
      "needs_background": "light"
     },
     "output_type": "display_data"
    }
   ],
   "source": [
    "onehots = np.pad(np.eye(3136, dtype='float32').reshape((3136, 56, 56, 1)),\n",
    "                     ((0, 0), (4, 4), (4, 4), (0, 0)), mode=\"constant\")\n",
    "onehots = onehots.transpose(0, 3, 1, 2)\n",
    "\n",
    "onehots_tensor = torch.from_numpy(onehots)\n",
    "\n",
    "conv_layer = nn.Conv2d(in_channels=1, out_channels=1, kernel_size=(9,9), padding=4, stride=1)\n",
    "w = torch.ones(1, 1, 9, 9)\n",
    "conv_layer.weight.data = w\n",
    "\n",
    "images_tensor = conv_layer(onehots_tensor)\n",
    "images = images_tensor.detach().numpy()\n",
    "\n",
    "print(onehots.shape)\n",
    "plt.imshow(onehots[0].reshape(64,64));"
   ]
  },
  {
   "cell_type": "code",
   "execution_count": 4,
   "metadata": {},
   "outputs": [
    {
     "name": "stdout",
     "output_type": "stream",
     "text": [
      "(3136, 1, 64, 64)\n"
     ]
    },
    {
     "data": {
      "image/png": "[encoded data removed]",
      "text/plain": [
       "<Figure size 432x288 with 1 Axes>"
      ]
     },
     "metadata": {
      "needs_background": "light"
     },
     "output_type": "display_data"
    }
   ],
   "source": [
    "print(images.shape)\n",
    "plt.imshow(images[0].reshape(64,64));"
   ]
  },
  {
   "cell_type": "code",
   "execution_count": 5,
   "metadata": {},
   "outputs": [],
   "source": [
    "# Create the uniform datasets\n",
    "indices = np.arange(0, len(onehots), dtype='int32')\n",
    "train, test = train_test_split(indices, test_size=0.2, random_state=0)\n",
    "\n",
    "train_onehot = onehots[train]\n",
    "train_images = images[train]\n",
    "\n",
    "test_onehot = onehots[test]\n",
    "test_images = images[test]\n",
    "\n",
    "np.save('data-uniform/train_onehot.npy', train_onehot)\n",
    "np.save('data-uniform/train_images.npy', train_images)\n",
    "np.save('data-uniform/test_onehot.npy', test_onehot)\n",
    "np.save('data-uniform/test_images.npy', test_images)\n"
   ]
  },
  {
   "cell_type": "code",
   "execution_count": 20,
   "metadata": {},
   "outputs": [
    {
     "name": "stdout",
     "output_type": "stream",
     "text": [
      "Train target :  (2508, 2) 0.9365079365079365 0.06349206349206349\n",
      "Test target :  (628, 2) 0.9365079365079365 0.06349206349206349\n"
     ]
    },
    {
     "data": {
      "image/png": "[encoded data removed]",
      "text/plain": [
       "<Figure size 432x288 with 1 Axes>"
      ]
     },
     "metadata": {
      "needs_background": "light"
     },
     "output_type": "display_data"
    },
    {
     "data": {
      "image/png": "[encoded data removed]",
      "text/plain": [
       "<Figure size 432x288 with 1 Axes>"
      ]
     },
     "metadata": {
      "needs_background": "light"
     },
     "output_type": "display_data"
    }
   ],
   "source": [
    "# Load the one hot datasets\n",
    "train_onehot = np.load('data-uniform/train_onehot.npy').astype('float32')\n",
    "test_onehot = np.load('data-uniform/test_onehot.npy').astype('float32')\n",
    "\n",
    "def get_target(onehot):\n",
    "    pos = np.where(onehot == 1.0)\n",
    "    coordX = pos[2]\n",
    "    coordY = pos[3]\n",
    "    # Normalize the datasets\n",
    "    return np.array(list(zip(coordX, coordY))) / (64. - 1.)  # 64x64 grid, 0-based index\n",
    "\n",
    "# (N, C, H, W)\n",
    "# make the train and test datasets\n",
    "# train\n",
    "train_target = get_target(train_onehot)\n",
    "\n",
    "# test\n",
    "test_target = get_target(test_onehot)\n",
    "\n",
    "\n",
    "print('Train target : ', train_target.shape, train_target.max(), train_target.min())\n",
    "print('Test target : ', test_target.shape, test_target.max(), test_target.min())\n",
    "\n",
    "# Visualize the datasets\n",
    "plt.imshow(np.sum(train_onehot, axis=0)[0, :, :], cmap='gray')\n",
    "plt.title('Train One-hot dataset')\n",
    "plt.show()\n",
    "plt.imshow(np.sum(test_onehot, axis=0)[0, :, :], cmap='gray')\n",
    "plt.title('Test One-hot dataset')\n",
    "plt.show()"
   ]
  },
  {
   "cell_type": "code",
   "execution_count": 84,
   "metadata": {},
   "outputs": [],
   "source": [
    "# settings\n",
    "text_device = 'cuda'\n",
    "device = torch.device(text_device)\n",
    "coord_conv = True\n",
    "epochs = 10"
   ]
  },
  {
   "cell_type": "code",
   "execution_count": 85,
   "metadata": {},
   "outputs": [
    {
     "name": "stdout",
     "output_type": "stream",
     "text": [
      "----------------------------------------------------------------\n",
      "        Layer (type)               Output Shape         Param #\n",
      "================================================================\n",
      "            Conv2d-1           [-1, 32, 62, 62]           1,184\n",
      "         CoordConv-2           [-1, 32, 62, 62]               0\n",
      "         MaxPool2d-3           [-1, 32, 30, 30]               0\n",
      "            Conv2d-4           [-1, 64, 28, 28]          18,496\n",
      "         MaxPool2d-5           [-1, 64, 13, 13]               0\n",
      "            Conv2d-6          [-1, 128, 11, 11]          73,856\n",
      "         MaxPool2d-7            [-1, 128, 5, 5]               0\n",
      "            Linear-8                    [-1, 2]           6,402\n",
      "================================================================\n",
      "Total params: 99,938\n",
      "Trainable params: 99,938\n",
      "Non-trainable params: 0\n",
      "----------------------------------------------------------------\n",
      "Input size (MB): 0.02\n",
      "Forward/backward pass size (MB): 2.70\n",
      "Params size (MB): 0.38\n",
      "Estimated Total Size (MB): 3.10\n",
      "----------------------------------------------------------------\n"
     ]
    }
   ],
   "source": [
    "# model definition\n",
    "\n",
    "class Net(nn.Module):\n",
    "    def __init__(self, coord_conv=True):\n",
    "        super(Net, self).__init__()\n",
    "        if coord_conv:\n",
    "            self.convX = CoordConv(1, 32, 3, with_r=True)\n",
    "        else:\n",
    "            self.convX = nn.Conv2d(1, 32, 3)\n",
    "        self.poolX = nn.MaxPool2d(3, stride=2)\n",
    "        self.conv1 = nn.Conv2d(32, 64, 3)\n",
    "        self.pool1 = nn.MaxPool2d(3, stride=2)\n",
    "        self.conv2 = nn.Conv2d(64, 128, 3)\n",
    "        self.pool2 = nn.MaxPool2d(3, stride=2)\n",
    "        self.linear = nn.Linear(3200, 2)\n",
    "\n",
    "    def forward(self, x):\n",
    "        x = self.convX(x)\n",
    "        x = self.poolX(x)\n",
    "        x = F.relu(self.conv1(x))\n",
    "        x = self.pool1(x)\n",
    "        x = F.relu(self.conv2(x))\n",
    "        x = self.pool2(x)\n",
    "        x = x.view(x.size(0), -1)\n",
    "        x = self.linear(x)\n",
    "        return x\n",
    "\n",
    "net = Net(coord_conv=coord_conv).to(device)\n",
    "\n",
    "summary(net, input_size=(1, 64, 64), device=text_device)"
   ]
  },
  {
   "cell_type": "code",
   "execution_count": 86,
   "metadata": {},
   "outputs": [],
   "source": [
    "train_tensor_x = torch.stack([torch.Tensor(i) for i in train_onehot]).to(device)\n",
    "train_tensor_y = torch.stack([torch.Tensor(i) for i in train_target]).to(device)\n",
    "\n",
    "train_dataset = utils.TensorDataset(train_tensor_x,train_tensor_y)\n",
    "train_dataloader = utils.DataLoader(train_dataset, batch_size=32, shuffle=False)\n",
    "\n",
    "test_tensor_x = torch.stack([torch.Tensor(i) for i in test_onehot]).to(device)\n",
    "test_tensor_y = torch.stack([torch.Tensor(i) for i in test_target]).to(device)\n",
    "\n",
    "test_dataset = utils.TensorDataset(test_tensor_x,test_tensor_y)\n",
    "test_dataloader = utils.DataLoader(test_dataset, batch_size=32, shuffle=False)"
   ]
  },
  {
   "cell_type": "code",
   "execution_count": 87,
   "metadata": {},
   "outputs": [
    {
     "name": "stdout",
     "output_type": "stream",
     "text": [
      "Train Epoch: 1 [2508/2508 (100%)] Loss: 0.010901\n",
      "Train Epoch: 2 [2508/2508 (100%)] Loss: 0.000824\n",
      "Train Epoch: 3 [2508/2508 (100%)] Loss: 0.000326\n",
      "Train Epoch: 4 [2508/2508 (100%)] Loss: 0.000145\n",
      "Train Epoch: 5 [2508/2508 (100%)] Loss: 0.000077\n",
      "Train Epoch: 6 [2508/2508 (100%)] Loss: 0.000048\n",
      "Train Epoch: 7 [2508/2508 (100%)] Loss: 0.000035\n",
      "Train Epoch: 8 [2508/2508 (100%)] Loss: 0.000032\n",
      "Train Epoch: 9 [2508/2508 (100%)] Loss: 0.000026\n",
      "Train Epoch: 10 [2508/2508 (100%)] Loss: 0.000037\n"
     ]
    }
   ],
   "source": [
    "optimizer = torch.optim.Adam(net.parameters(), lr=1e-3)\n",
    "\n",
    "def sigmoid_mse(input, target):\n",
    "    input = input.sigmoid()\n",
    "    return nn.MSELoss()(input, target)\n",
    "criterion = sigmoid_mse\n",
    "\n",
    "\n",
    "def train(epoch, net, train_dataloader, optimizer, criterion, device):\n",
    "    net.train()\n",
    "    iters = 0\n",
    "    for batch_idx, (data, target) in enumerate(train_dataloader):\n",
    "        data, target = Variable(data), Variable(target)\n",
    "        data, target = data.to(device), target.to(device)\n",
    "        optimizer.zero_grad()\n",
    "        output = net(data)\n",
    "        loss = criterion(output, target)\n",
    "        loss.backward()\n",
    "        optimizer.step()\n",
    "        iters += len(data)\n",
    "        print('Train Epoch: {} [{}/{} ({:.0f}%)] Loss: {:.6f}'.format(\n",
    "                epoch, iters, len(train_dataloader.dataset),\n",
    "                100. * (batch_idx + 1) / len(train_dataloader), loss.data.item()), end='\\r', flush=True)\n",
    "    print(\"\")\n",
    "    \n",
    "\n",
    "epochs = 10\n",
    "\n",
    "for epoch in range(1, epochs + 1):\n",
    "    train(epoch, net, train_dataloader, optimizer, criterion, device)"
   ]
  },
  {
   "cell_type": "code",
   "execution_count": 88,
   "metadata": {},
   "outputs": [
    {
     "name": "stdout",
     "output_type": "stream",
     "text": [
      "\n",
      "Test set: Average loss: 0.0001\n",
      "\n"
     ]
    },
    {
     "data": {
      "image/png": "[encoded data removed]",
      "text/plain": [
       "<Figure size 432x288 with 1 Axes>"
      ]
     },
     "metadata": {
      "needs_background": "light"
     },
     "output_type": "display_data"
    },
    {
     "data": {
      "image/png": "[encoded data removed]",
      "text/plain": [
       "<Figure size 432x288 with 1 Axes>"
      ]
     },
     "metadata": {
      "needs_background": "light"
     },
     "output_type": "display_data"
    }
   ],
   "source": [
    "test(net, test_dataloader, optimizer, criterion, device)"
   ]
  },
  {
   "cell_type": "code",
   "execution_count": 83,
   "metadata": {},
   "outputs": [
    {
     "name": "stdout",
     "output_type": "stream",
     "text": [
      "\n",
      "Test set: Average loss: 0.0002\n",
      "\n"
     ]
    },
    {
     "data": {
      "image/png": "[encoded data removed]",
      "text/plain": [
       "<Figure size 432x288 with 1 Axes>"
      ]
     },
     "metadata": {
      "needs_background": "light"
     },
     "output_type": "display_data"
    },
    {
     "data": {
      "image/png": "[encoded data removed]",
      "text/plain": [
       "<Figure size 432x288 with 1 Axes>"
      ]
     },
     "metadata": {
      "needs_background": "light"
     },
     "output_type": "display_data"
    }
   ],
   "source": [
    "def test(net, test_loader, optimizer, criterion, device):\n",
    "    net.eval()\n",
    "    test_loss = 0\n",
    "    correct = 0\n",
    "    pred_logits = torch.tensor([])\n",
    "    projection = np.zeros((64, 64), dtype=np.float32)\n",
    "    for data, target in test_loader:\n",
    "        with torch.no_grad():\n",
    "            data, target = data.to(device), target.to(device)\n",
    "            output = net(data)\n",
    "            logits = output.sigmoid()\n",
    "            #print(logits)\n",
    "            pred_logits = torch.cat((pred_logits, logits.cpu()), dim=0)\n",
    "            test_loss += criterion(output, target).item()\n",
    "            # plot\n",
    "            xy = (logits * (64 - 1.)).detach().cpu().numpy().astype(np.uint8)\n",
    "            for x, y in xy:\n",
    "                projection[y, x] = 1.\n",
    "\n",
    "    test_loss /= len(test_loader) # loss function already averages over batch size\n",
    "    print(f'\\nTest set: Average loss: {test_loss:.4f}\\n')\n",
    "    \n",
    "    plt.imshow(projection, cmap='gray')\n",
    "    plt.title('Test Prediction')\n",
    "    plt.show()\n",
    "    plt.imshow(np.sum(test_onehot, axis=0)[0, :, :], cmap='gray')\n",
    "    plt.title('Test Target')\n",
    "    plt.show()\n",
    "    \n",
    "test(net, test_dataloader, optimizer, criterion, device)"
   ]
  },
  {
   "cell_type": "code",
   "execution_count": null,
   "metadata": {},
   "outputs": [],
   "source": []
  },
  {
   "cell_type": "code",
   "execution_count": null,
   "metadata": {},
   "outputs": [],
   "source": []
  }
 ],
 "metadata": {
  "kernelspec": {
   "display_name": "Python 3",
   "language": "python",
   "name": "python3"
  },
  "language_info": {
   "codemirror_mode": {
    "name": "ipython",
    "version": 3
   },
   "file_extension": ".py",
   "mimetype": "text/x-python",
   "name": "python",
   "nbconvert_exporter": "python",
   "pygments_lexer": "ipython3",
   "version": "3.7.5"
  }
 },
 "nbformat": 4,
 "nbformat_minor": 2
}
