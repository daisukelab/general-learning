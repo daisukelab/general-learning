{
 "cells": [
  {
   "cell_type": "code",
   "execution_count": 1,
   "metadata": {},
   "outputs": [],
   "source": [
    "from dlcliche.notebook import *"
   ]
  },
  {
   "cell_type": "code",
   "execution_count": 2,
   "metadata": {},
   "outputs": [],
   "source": [
    "from MLP.torch_mlp_clf import TorchMLPClassifier\n",
    "import torchvision\n",
    "import logging\n",
    "\n",
    "\n",
    "logging.basicConfig(level=logging.DEBUG)\n",
    "logger = logging.getLogger(__name__)"
   ]
  },
  {
   "cell_type": "code",
   "execution_count": 3,
   "metadata": {},
   "outputs": [
    {
     "name": "stderr",
     "output_type": "stream",
     "text": [
      "INFO:MLP.torch_mlp_clf:epoch 0001/200: lr: 0.0010000: loss=72.573082 val_acc=0.9450000 val_loss=36.6611481\n",
      "INFO:MLP.torch_mlp_clf:epoch 0002/200: lr: 0.0010000: loss=27.975908 val_acc=0.9555000 val_loss=28.2085037\n",
      "INFO:MLP.torch_mlp_clf:epoch 0003/200: lr: 0.0010000: loss=19.483381 val_acc=0.9621667 val_loss=24.1239967\n",
      "INFO:MLP.torch_mlp_clf:epoch 0004/200: lr: 0.0010000: loss=14.462395 val_acc=0.9648333 val_loss=22.3625278\n",
      "INFO:MLP.torch_mlp_clf:epoch 0005/200: lr: 0.0010000: loss=11.142369 val_acc=0.9643333 val_loss=22.2727146\n",
      "INFO:MLP.torch_mlp_clf:epoch 0006/200: lr: 0.0010000: loss=8.804535 val_acc=0.9685000 val_loss=21.4839783\n",
      "INFO:MLP.torch_mlp_clf:epoch 0007/200: lr: 0.0010000: loss=7.014573 val_acc=0.9700000 val_loss=21.2735443\n",
      "INFO:MLP.torch_mlp_clf:epoch 0008/200: lr: 0.0010000: loss=5.413020 val_acc=0.9691667 val_loss=22.2209263\n",
      "INFO:MLP.torch_mlp_clf:epoch 0009/200: lr: 0.0010000: loss=4.379846 val_acc=0.9705000 val_loss=22.3828259\n",
      "INFO:MLP.torch_mlp_clf:epoch 0010/200: lr: 0.0010000: loss=3.564506 val_acc=0.9701667 val_loss=22.1710339\n",
      "INFO:MLP.torch_mlp_clf:epoch 0011/200: lr: 0.0010000: loss=2.784712 val_acc=0.9710000 val_loss=24.2318707\n",
      "INFO:MLP.torch_mlp_clf:epoch 0012/200: lr: 0.0010000: loss=2.249998 val_acc=0.9705000 val_loss=23.8990536\n",
      "INFO:MLP.torch_mlp_clf:epoch 0013/200: lr: 0.0010000: loss=1.787541 val_acc=0.9701667 val_loss=24.7594128\n",
      "INFO:MLP.torch_mlp_clf:epoch 0014/200: lr: 0.0010000: loss=1.437288 val_acc=0.9696667 val_loss=25.8713760\n",
      "INFO:MLP.torch_mlp_clf:epoch 0015/200: lr: 0.0010000: loss=1.190349 val_acc=0.9698333 val_loss=26.0652676\n",
      "INFO:MLP.torch_mlp_clf:epoch 0016/200: lr: 0.0010000: loss=0.912397 val_acc=0.9703333 val_loss=26.4040356\n",
      "INFO:MLP.torch_mlp_clf:epoch 0017/200: lr: 0.0010000: loss=0.749125 val_acc=0.9705000 val_loss=27.6907940\n",
      "INFO:MLP.torch_mlp_clf:epoch 0018/200: lr: 0.0010000: loss=0.638271 val_acc=0.9713333 val_loss=27.6749496\n",
      "INFO:MLP.torch_mlp_clf:epoch 0019/200: lr: 0.0010000: loss=0.466533 val_acc=0.9708333 val_loss=28.2922134\n",
      "INFO:MLP.torch_mlp_clf:epoch 0020/200: lr: 0.0010000: loss=0.430084 val_acc=0.9706667 val_loss=29.4259605\n",
      "INFO:MLP.torch_mlp_clf:epoch 0021/200: lr: 0.0010000: loss=0.356695 val_acc=0.9715000 val_loss=29.9437447\n",
      "INFO:MLP.torch_mlp_clf:epoch 0022/200: lr: 0.0010000: loss=0.637290 val_acc=0.9673333 val_loss=35.6509590\n",
      "INFO:MLP.torch_mlp_clf:epoch 0023/200: lr: 0.0010000: loss=4.715647 val_acc=0.9641667 val_loss=42.7581406\n",
      "INFO:MLP.torch_mlp_clf:epoch 0024/200: lr: 0.0010000: loss=4.049352 val_acc=0.9685000 val_loss=40.0551682\n",
      "INFO:MLP.torch_mlp_clf:epoch 0025/200: lr: 0.0010000: loss=1.438252 val_acc=0.9701667 val_loss=39.3194885\n",
      "INFO:MLP.torch_mlp_clf:epoch 0026/200: lr: 0.0010000: loss=0.436849 val_acc=0.9710000 val_loss=38.9449844\n",
      "INFO:MLP.torch_mlp_clf:epoch 0027/200: lr: 0.0010000: loss=0.173871 val_acc=0.9730000 val_loss=38.4815292\n",
      "INFO:MLP.torch_mlp_clf:epoch 0028/200: lr: 0.0010000: loss=0.126151 val_acc=0.9721667 val_loss=38.5952950\n",
      "INFO:MLP.torch_mlp_clf:epoch 0029/200: lr: 0.0010000: loss=0.109330 val_acc=0.9728333 val_loss=38.6859818\n",
      "INFO:MLP.torch_mlp_clf:epoch 0030/200: lr: 0.0010000: loss=0.098526 val_acc=0.9735000 val_loss=38.8399620\n",
      "INFO:MLP.torch_mlp_clf:epoch 0031/200: lr: 0.0010000: loss=0.088061 val_acc=0.9725000 val_loss=39.0022049\n",
      "INFO:MLP.torch_mlp_clf:epoch 0032/200: lr: 0.0010000: loss=0.079986 val_acc=0.9725000 val_loss=39.4296570\n",
      "INFO:MLP.torch_mlp_clf:epoch 0033/200: lr: 0.0010000: loss=0.073585 val_acc=0.9725000 val_loss=39.5084610\n",
      "INFO:MLP.torch_mlp_clf:epoch 0034/200: lr: 0.0010000: loss=0.070500 val_acc=0.9730000 val_loss=39.6613693\n",
      "INFO:MLP.torch_mlp_clf:epoch 0035/200: lr: 0.0010000: loss=0.062994 val_acc=0.9725000 val_loss=39.9467430\n",
      "INFO:MLP.torch_mlp_clf:epoch 0036/200: lr: 0.0010000: loss=0.056482 val_acc=0.9721667 val_loss=40.3084221\n",
      "INFO:MLP.torch_mlp_clf:epoch 0037/200: lr: 0.0010000: loss=0.052759 val_acc=0.9728333 val_loss=40.5327339\n",
      "INFO:MLP.torch_mlp_clf:epoch 0038/200: lr: 0.0010000: loss=0.046571 val_acc=0.9730000 val_loss=40.7262077\n",
      "INFO:MLP.torch_mlp_clf:epoch 0039/200: lr: 0.0010000: loss=0.179308 val_acc=0.9700000 val_loss=45.6647263\n",
      "INFO:MLP.torch_mlp_clf:epoch 0040/200: lr: 0.0010000: loss=5.911984 val_acc=0.9631667 val_loss=62.4083519\n",
      "INFO:MLP.torch_mlp_clf:Training complete in 0m 20s\n",
      "INFO:MLP.torch_mlp_clf:Best val_acc@30 = 0.9735\n",
      "INFO:MLP.torch_mlp_clf:Best val_loss@30 = 38.839962005615234\n"
     ]
    },
    {
     "data": {
      "text/plain": [
       "0.9757"
      ]
     },
     "execution_count": 3,
     "metadata": {},
     "output_type": "execute_result"
    }
   ],
   "source": [
    "org_train = torchvision.datasets.MNIST('data', train=True, download=True)\n",
    "org_test = torchvision.datasets.MNIST('data', train=False)\n",
    "X, y = org_train.data.view(-1, 28*28).numpy(), org_train.targets.numpy()\n",
    "test_X, test_y = org_test.data.view(-1, 28*28).numpy(), org_test.targets.numpy()\n",
    "\n",
    "clf = TorchMLPClassifier()\n",
    "clf.fit(X, y)\n",
    "clf.score(test_X, test_y)"
   ]
  },
  {
   "cell_type": "code",
   "execution_count": null,
   "metadata": {},
   "outputs": [],
   "source": []
  }
 ],
 "metadata": {
  "kernelspec": {
   "display_name": "Python 3",
   "language": "python",
   "name": "python3"
  },
  "language_info": {
   "codemirror_mode": {
    "name": "ipython",
    "version": 3
   },
   "file_extension": ".py",
   "mimetype": "text/x-python",
   "name": "python",
   "nbconvert_exporter": "python",
   "pygments_lexer": "ipython3",
   "version": "3.7.5"
  }
 },
 "nbformat": 4,
 "nbformat_minor": 2
}
