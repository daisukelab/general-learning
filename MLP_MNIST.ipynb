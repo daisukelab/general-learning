{
 "cells": [
  {
   "cell_type": "code",
   "execution_count": 1,
   "metadata": {},
   "outputs": [],
   "source": [
    "from dlcliche.notebook import *"
   ]
  },
  {
   "cell_type": "code",
   "execution_count": 2,
   "metadata": {},
   "outputs": [],
   "source": [
    "from MLP.torch_mlp_clf import TorchMLPClassifier\n",
    "import torchvision\n",
    "import logging\n",
    "\n",
    "\n",
    "logging.basicConfig(level=logging.DEBUG)\n",
    "logger = logging.getLogger(__name__)"
   ]
  },
  {
   "cell_type": "code",
   "execution_count": 3,
   "metadata": {},
   "outputs": [
    {
     "name": "stderr",
     "output_type": "stream",
     "text": [
      "INFO:MLP.torch_mlp_clf:epoch 0001/200: lr: 0.0010000: loss=71.923484 val_acc=0.9468333 val_loss=36.2936401\n",
      "INFO:MLP.torch_mlp_clf:epoch 0002/200: lr: 0.0010000: loss=27.738191 val_acc=0.9575000 val_loss=26.9723701\n",
      "INFO:MLP.torch_mlp_clf:epoch 0003/200: lr: 0.0010000: loss=19.118071 val_acc=0.9638333 val_loss=23.7882633\n",
      "INFO:MLP.torch_mlp_clf:epoch 0004/200: lr: 0.0010000: loss=14.148422 val_acc=0.9666667 val_loss=21.0479698\n",
      "INFO:MLP.torch_mlp_clf:epoch 0005/200: lr: 0.0010000: loss=10.838633 val_acc=0.9700000 val_loss=20.1991653\n",
      "INFO:MLP.torch_mlp_clf:epoch 0006/200: lr: 0.0010000: loss=8.400018 val_acc=0.9685000 val_loss=20.1935234\n",
      "INFO:MLP.torch_mlp_clf:epoch 0007/200: lr: 0.0010000: loss=6.595915 val_acc=0.9701667 val_loss=19.8137150\n",
      "INFO:MLP.torch_mlp_clf:epoch 0008/200: lr: 0.0010000: loss=5.267728 val_acc=0.9701667 val_loss=18.7311630\n",
      "INFO:MLP.torch_mlp_clf:epoch 0009/200: lr: 0.0010000: loss=4.113125 val_acc=0.9700000 val_loss=20.7068005\n",
      "INFO:MLP.torch_mlp_clf:epoch 0010/200: lr: 0.0010000: loss=3.400246 val_acc=0.9711667 val_loss=20.0593853\n",
      "INFO:MLP.torch_mlp_clf:epoch 0011/200: lr: 0.0010000: loss=2.735825 val_acc=0.9698333 val_loss=20.8598328\n",
      "INFO:MLP.torch_mlp_clf:epoch 0012/200: lr: 0.0010000: loss=2.118548 val_acc=0.9713333 val_loss=20.8267689\n",
      "INFO:MLP.torch_mlp_clf:epoch 0013/200: lr: 0.0010000: loss=1.731474 val_acc=0.9728333 val_loss=21.3250694\n",
      "INFO:MLP.torch_mlp_clf:epoch 0014/200: lr: 0.0010000: loss=1.431481 val_acc=0.9725000 val_loss=21.5259590\n",
      "INFO:MLP.torch_mlp_clf:epoch 0015/200: lr: 0.0010000: loss=1.146409 val_acc=0.9728333 val_loss=21.7646141\n",
      "INFO:MLP.torch_mlp_clf:epoch 0016/200: lr: 0.0010000: loss=0.926600 val_acc=0.9726667 val_loss=21.8861523\n",
      "INFO:MLP.torch_mlp_clf:epoch 0017/200: lr: 0.0010000: loss=0.696059 val_acc=0.9708333 val_loss=23.2076283\n",
      "INFO:MLP.torch_mlp_clf:epoch 0018/200: lr: 0.0010000: loss=0.556111 val_acc=0.9738333 val_loss=23.3125324\n",
      "INFO:MLP.torch_mlp_clf:epoch 0019/200: lr: 0.0010000: loss=0.424881 val_acc=0.9736667 val_loss=23.4326916\n",
      "INFO:MLP.torch_mlp_clf:epoch 0020/200: lr: 0.0010000: loss=0.374018 val_acc=0.9743333 val_loss=24.2740974\n",
      "INFO:MLP.torch_mlp_clf:epoch 0021/200: lr: 0.0010000: loss=0.324413 val_acc=0.9736667 val_loss=24.0456600\n",
      "INFO:MLP.torch_mlp_clf:epoch 0022/200: lr: 0.0010000: loss=0.258996 val_acc=0.9740000 val_loss=24.7374325\n",
      "INFO:MLP.torch_mlp_clf:epoch 0023/200: lr: 0.0010000: loss=0.214662 val_acc=0.9730000 val_loss=25.4870434\n",
      "INFO:MLP.torch_mlp_clf:epoch 0024/200: lr: 0.0010000: loss=0.198706 val_acc=0.9730000 val_loss=26.2606030\n",
      "INFO:MLP.torch_mlp_clf:epoch 0025/200: lr: 0.0010000: loss=2.433316 val_acc=0.9640000 val_loss=40.4965744\n",
      "INFO:MLP.torch_mlp_clf:epoch 0026/200: lr: 0.0010000: loss=7.710907 val_acc=0.9710000 val_loss=33.2202950\n",
      "INFO:MLP.torch_mlp_clf:epoch 0027/200: lr: 0.0010000: loss=3.064632 val_acc=0.9725000 val_loss=31.2189522\n",
      "INFO:MLP.torch_mlp_clf:epoch 0028/200: lr: 0.0010000: loss=0.918149 val_acc=0.9735000 val_loss=31.7081852\n",
      "INFO:MLP.torch_mlp_clf:epoch 0029/200: lr: 0.0010000: loss=0.353743 val_acc=0.9730000 val_loss=29.7110462\n",
      "INFO:MLP.torch_mlp_clf:epoch 0030/200: lr: 0.0010000: loss=0.130672 val_acc=0.9736667 val_loss=29.2288170\n",
      "INFO:MLP.torch_mlp_clf:Training complete in 0m 16s\n",
      "INFO:MLP.torch_mlp_clf:Best val_acc@20 = 0.9743333333333334\n",
      "INFO:MLP.torch_mlp_clf:Best val_loss@20 = 24.274097442626953\n"
     ]
    },
    {
     "data": {
      "text/plain": [
       "0.973"
      ]
     },
     "execution_count": 3,
     "metadata": {},
     "output_type": "execute_result"
    }
   ],
   "source": [
    "org_train = torchvision.datasets.MNIST('data', train=True, download=True)\n",
    "org_test = torchvision.datasets.MNIST('data', train=False)\n",
    "X, y = org_train.data.view(-1, 28*28).numpy(), org_train.targets.numpy()\n",
    "test_X, test_y = org_test.data.view(-1, 28*28).numpy(), org_test.targets.numpy()\n",
    "\n",
    "clf = TorchMLPClassifier()\n",
    "clf.fit(X, y)\n",
    "clf.score(test_X, test_y)"
   ]
  },
  {
   "cell_type": "code",
   "execution_count": null,
   "metadata": {},
   "outputs": [],
   "source": []
  }
 ],
 "metadata": {
  "kernelspec": {
   "display_name": "Python 3",
   "language": "python",
   "name": "python3"
  },
  "language_info": {
   "codemirror_mode": {
    "name": "ipython",
    "version": 3
   },
   "file_extension": ".py",
   "mimetype": "text/x-python",
   "name": "python",
   "nbconvert_exporter": "python",
   "pygments_lexer": "ipython3",
   "version": "3.7.5"
  }
 },
 "nbformat": 4,
 "nbformat_minor": 2
}
