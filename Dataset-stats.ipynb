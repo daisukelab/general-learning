{
 "cells": [
  {
   "cell_type": "code",
   "execution_count": 1,
   "metadata": {},
   "outputs": [],
   "source": [
    "from dlcliche.notebook import *\n",
    "from dlcliche.torch_utils import *"
   ]
  },
  {
   "cell_type": "markdown",
   "metadata": {},
   "source": [
    "## AudioSet"
   ]
  },
  {
   "cell_type": "code",
   "execution_count": 7,
   "metadata": {},
   "outputs": [
    {
     "name": "stdout",
     "output_type": "stream",
     "text": [
      "balanced_train_segments.csv 22160\n",
      "unbalanced_train_segments.csv 2041789\n",
      "eval_segments.csv 20371\n"
     ]
    }
   ],
   "source": [
    "import urllib.request\n",
    "\n",
    "\n",
    "def read_audioset_csv(url, classes_num=527):\n",
    "    \"\"\"Thanks to PANNs utils/dataset.py\"\"\"\n",
    "    lines = []\n",
    "    for i, line in enumerate(urllib.request.urlopen(url)):\n",
    "        if i < 3: continue # Remove heads\n",
    "        lines.append(line.decode('utf-8'))\n",
    "\n",
    "    audios_num = len(lines)\n",
    "    audio_names, file_names, targets = [], [], []\n",
    "\n",
    "    for n, line in enumerate(lines):\n",
    "        items = line.split(', ')\n",
    "        # items: ['--4gqARaEJE', '0.000', '10.000', '\"/m/068hy,/m/07q6cd_,/m/0bt9lr,/m/0jbk\"\\n']\n",
    "\n",
    "        audio_name = items[0]\n",
    "        file_name = f'{items[0]}_{items[1]}.wav'\n",
    "        label_ids = items[3].split('\"')[1] #.split(',')\n",
    "\n",
    "        audio_names.append(audio_name)\n",
    "        file_names.append(file_name)\n",
    "        targets.append(label_ids)\n",
    "\n",
    "    df = pd.DataFrame({'audio_name': audio_names, 'file_name': file_names, 'target': targets})\n",
    "    return df\n",
    "\n",
    "\n",
    "for csvfile in [\n",
    "    'http://storage.googleapis.com/us_audioset/youtube_corpus/v1/csv/balanced_train_segments.csv',\n",
    "    'http://storage.googleapis.com/us_audioset/youtube_corpus/v1/csv/unbalanced_train_segments.csv',\n",
    "    'http://storage.googleapis.com/us_audioset/youtube_corpus/v1/csv/eval_segments.csv',\n",
    "]:\n",
    "    name = Path(csvfile).name\n",
    "    df = read_audioset_csv(csvfile)\n",
    "    print(name, len(df))"
   ]
  },
  {
   "cell_type": "markdown",
   "metadata": {},
   "source": [
    "## kinetics700"
   ]
  },
  {
   "cell_type": "code",
   "execution_count": 21,
   "metadata": {},
   "outputs": [],
   "source": [
    "import requests\n",
    "import tarfile\n",
    "\n",
    "response = requests.get('https://storage.googleapis.com/deepmind-media/Datasets/kinetics700.tar.gz', stream=True)\n",
    "file = tarfile.open(fileobj=response.raw, mode=\"r|gz\")\n",
    "file.extractall(path='/tmp/kinetics700')"
   ]
  },
  {
   "cell_type": "code",
   "execution_count": 22,
   "metadata": {},
   "outputs": [
    {
     "name": "stdout",
     "output_type": "stream",
     "text": [
      "train.csv 531499\n",
      "validate.csv 33979\n",
      "test.csv 67737\n"
     ]
    }
   ],
   "source": [
    "for csvfile in [\n",
    "    '/tmp/kinetics700/kinetics700/train.csv',\n",
    "    '/tmp/kinetics700/kinetics700/validate.csv',\n",
    "    '/tmp/kinetics700/kinetics700/test.csv',\n",
    "]:\n",
    "    name = Path(csvfile).name\n",
    "    df = pd.read_csv(csvfile)\n",
    "    print(name, len(df))"
   ]
  },
  {
   "cell_type": "code",
   "execution_count": 24,
   "metadata": {},
   "outputs": [
    {
     "data": {
      "text/plain": [
       "0.9108474083432347"
      ]
     },
     "execution_count": 24,
     "metadata": {},
     "output_type": "execute_result"
    }
   ],
   "source": [
    "181684/199467"
   ]
  },
  {
   "cell_type": "code",
   "execution_count": null,
   "metadata": {},
   "outputs": [],
   "source": []
  }
 ],
 "metadata": {
  "kernelspec": {
   "display_name": "Python 3",
   "language": "python",
   "name": "python3"
  },
  "language_info": {
   "codemirror_mode": {
    "name": "ipython",
    "version": 3
   },
   "file_extension": ".py",
   "mimetype": "text/x-python",
   "name": "python",
   "nbconvert_exporter": "python",
   "pygments_lexer": "ipython3",
   "version": "3.8.5"
  }
 },
 "nbformat": 4,
 "nbformat_minor": 4
}
